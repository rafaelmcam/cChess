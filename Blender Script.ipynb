{
 "cells": [
  {
   "cell_type": "code",
   "execution_count": 1,
   "metadata": {},
   "outputs": [],
   "source": [
    "import numpy as np"
   ]
  },
  {
   "cell_type": "code",
   "execution_count": 39,
   "metadata": {},
   "outputs": [],
   "source": [
    "arr = np.array([[b'r', b'n', b'b', b'q', b'k', b'b', b'n', b'r'],\n",
    "           [b'p', b'p', b'p', b'p', b'p', b'p', b'p', b'p'],\n",
    "           [b'_', b'_', b'_', b'_', b'_', b'_', b'_', b'_'],\n",
    "           [b'_', b'_', b'_', b'_', b'_', b'_', b'_', b'_'],\n",
    "           [b'_', b'_', b'_', b'_', b'_', b'_', b'_', b'_'],\n",
    "           [b'_', b'_', b'_', b'_', b'_', b'_', b'_', b'_'],\n",
    "           [b'P', b'P', b'P', b'P', b'P', b'P', b'P', b'P'],\n",
    "           [b'R', b'N', b'B', b'Q', b'K', b'B', b'N', b'R']], dtype = np.object_)"
   ]
  },
  {
   "cell_type": "code",
   "execution_count": 40,
   "metadata": {},
   "outputs": [
    {
     "data": {
      "text/plain": [
       "array([[b'r', b'n', b'b', b'q', b'k', b'b', b'n', b'r'],\n",
       "       [b'p', b'p', b'p', b'p', b'p', b'p', b'p', b'p'],\n",
       "       [b'_', b'_', b'_', b'_', b'_', b'_', b'_', b'_'],\n",
       "       [b'_', b'_', b'_', b'_', b'_', b'_', b'_', b'_'],\n",
       "       [b'_', b'_', b'_', b'_', b'_', b'_', b'_', b'_'],\n",
       "       [b'_', b'_', b'_', b'_', b'_', b'_', b'_', b'_'],\n",
       "       [b'P', b'P', b'P', b'P', b'P', b'P', b'P', b'P'],\n",
       "       [b'R', b'N', b'B', b'Q', b'K', b'B', b'N', b'R']], dtype=object)"
      ]
     },
     "execution_count": 40,
     "metadata": {},
     "output_type": "execute_result"
    }
   ],
   "source": [
    "arr"
   ]
  },
  {
   "cell_type": "code",
   "execution_count": 41,
   "metadata": {},
   "outputs": [],
   "source": [
    "final = np.random.permutation(arr.ravel()).reshape(8, 8)"
   ]
  },
  {
   "cell_type": "code",
   "execution_count": 42,
   "metadata": {},
   "outputs": [
    {
     "data": {
      "text/plain": [
       "array([[b'_', b'_', b'_', b'R', b'p', b'_', b'p', b'P'],\n",
       "       [b'p', b'p', b'_', b'r', b'_', b'P', b'_', b'r'],\n",
       "       [b'p', b'B', b'_', b'_', b'P', b'P', b'_', b'Q'],\n",
       "       [b'_', b'P', b'_', b'_', b'_', b'N', b'_', b'B'],\n",
       "       [b'b', b'k', b'_', b'_', b'_', b'p', b'N', b'_'],\n",
       "       [b'K', b'_', b'_', b'_', b'P', b'_', b'_', b'_'],\n",
       "       [b'_', b'n', b'P', b'_', b'_', b'p', b'_', b'R'],\n",
       "       [b'b', b'_', b'n', b'q', b'P', b'_', b'_', b'p']], dtype=object)"
      ]
     },
     "execution_count": 42,
     "metadata": {},
     "output_type": "execute_result"
    }
   ],
   "source": [
    "final"
   ]
  },
  {
   "cell_type": "code",
   "execution_count": 43,
   "metadata": {},
   "outputs": [],
   "source": [
    "dc = {}"
   ]
  },
  {
   "cell_type": "code",
   "execution_count": 44,
   "metadata": {},
   "outputs": [],
   "source": [
    "dc[\"P0\"] = np.argwhere(final == b\"P\")[0]\n",
    "dc[\"P1\"] = np.argwhere(final == b\"P\")[1]\n",
    "dc[\"P2\"] = np.argwhere(final == b\"P\")[2]"
   ]
  },
  {
   "cell_type": "code",
   "execution_count": 45,
   "metadata": {},
   "outputs": [
    {
     "data": {
      "text/plain": [
       "(array([b'B', b'K', b'N', b'P', b'Q', b'R', b'_', b'b', b'k', b'n', b'p',\n",
       "        b'q', b'r'], dtype=object),\n",
       " array([ 2,  1,  2,  8,  1,  2, 32,  2,  1,  2,  8,  1,  2]))"
      ]
     },
     "execution_count": 45,
     "metadata": {},
     "output_type": "execute_result"
    }
   ],
   "source": [
    "np.unique(final, return_counts = True)"
   ]
  },
  {
   "cell_type": "code",
   "execution_count": 46,
   "metadata": {},
   "outputs": [
    {
     "data": {
      "text/plain": [
       "'b'"
      ]
     },
     "execution_count": 46,
     "metadata": {},
     "output_type": "execute_result"
    }
   ],
   "source": [
    "b\"b\".decode(\"utf-8\")"
   ]
  },
  {
   "cell_type": "code",
   "execution_count": 47,
   "metadata": {},
   "outputs": [],
   "source": [
    "for peca, counts in zip(*np.unique(final, return_counts = True)):\n",
    "    for i in range(counts):\n",
    "        dc[peca.decode(\"utf-8\") + f\"{i}\"] = np.argwhere(final == peca)[i]"
   ]
  },
  {
   "cell_type": "code",
   "execution_count": 48,
   "metadata": {},
   "outputs": [
    {
     "data": {
      "text/plain": [
       "{'P0': array([0, 7]),\n",
       " 'P1': array([1, 5]),\n",
       " 'P2': array([2, 4]),\n",
       " 'B0': array([2, 1]),\n",
       " 'B1': array([3, 7]),\n",
       " 'K0': array([5, 0]),\n",
       " 'N0': array([3, 5]),\n",
       " 'N1': array([4, 6]),\n",
       " 'P3': array([2, 5]),\n",
       " 'P4': array([3, 1]),\n",
       " 'P5': array([5, 4]),\n",
       " 'P6': array([6, 2]),\n",
       " 'P7': array([7, 4]),\n",
       " 'Q0': array([2, 7]),\n",
       " 'R0': array([0, 3]),\n",
       " 'R1': array([6, 7]),\n",
       " '_0': array([0, 0]),\n",
       " '_1': array([0, 1]),\n",
       " '_2': array([0, 2]),\n",
       " '_3': array([0, 5]),\n",
       " '_4': array([1, 2]),\n",
       " '_5': array([1, 4]),\n",
       " '_6': array([1, 6]),\n",
       " '_7': array([2, 2]),\n",
       " '_8': array([2, 3]),\n",
       " '_9': array([2, 6]),\n",
       " '_10': array([3, 0]),\n",
       " '_11': array([3, 2]),\n",
       " '_12': array([3, 3]),\n",
       " '_13': array([3, 4]),\n",
       " '_14': array([3, 6]),\n",
       " '_15': array([4, 2]),\n",
       " '_16': array([4, 3]),\n",
       " '_17': array([4, 4]),\n",
       " '_18': array([4, 7]),\n",
       " '_19': array([5, 1]),\n",
       " '_20': array([5, 2]),\n",
       " '_21': array([5, 3]),\n",
       " '_22': array([5, 5]),\n",
       " '_23': array([5, 6]),\n",
       " '_24': array([5, 7]),\n",
       " '_25': array([6, 0]),\n",
       " '_26': array([6, 3]),\n",
       " '_27': array([6, 4]),\n",
       " '_28': array([6, 6]),\n",
       " '_29': array([7, 1]),\n",
       " '_30': array([7, 5]),\n",
       " '_31': array([7, 6]),\n",
       " 'b0': array([4, 0]),\n",
       " 'b1': array([7, 0]),\n",
       " 'k0': array([4, 1]),\n",
       " 'n0': array([6, 1]),\n",
       " 'n1': array([7, 2]),\n",
       " 'p0': array([0, 4]),\n",
       " 'p1': array([0, 6]),\n",
       " 'p2': array([1, 0]),\n",
       " 'p3': array([1, 1]),\n",
       " 'p4': array([2, 0]),\n",
       " 'p5': array([4, 5]),\n",
       " 'p6': array([6, 5]),\n",
       " 'p7': array([7, 7]),\n",
       " 'q0': array([7, 3]),\n",
       " 'r0': array([1, 3]),\n",
       " 'r1': array([1, 7])}"
      ]
     },
     "execution_count": 48,
     "metadata": {},
     "output_type": "execute_result"
    }
   ],
   "source": [
    "dc"
   ]
  },
  {
   "cell_type": "code",
   "execution_count": null,
   "metadata": {},
   "outputs": [],
   "source": []
  },
  {
   "cell_type": "code",
   "execution_count": null,
   "metadata": {},
   "outputs": [],
   "source": []
  },
  {
   "cell_type": "code",
   "execution_count": null,
   "metadata": {},
   "outputs": [],
   "source": []
  },
  {
   "cell_type": "code",
   "execution_count": null,
   "metadata": {},
   "outputs": [],
   "source": []
  }
 ],
 "metadata": {
  "kernelspec": {
   "display_name": "Python 3",
   "language": "python",
   "name": "python3"
  },
  "language_info": {
   "codemirror_mode": {
    "name": "ipython",
    "version": 3
   },
   "file_extension": ".py",
   "mimetype": "text/x-python",
   "name": "python",
   "nbconvert_exporter": "python",
   "pygments_lexer": "ipython3",
   "version": "3.6.7"
  }
 },
 "nbformat": 4,
 "nbformat_minor": 2
}
