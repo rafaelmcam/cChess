{
 "cells": [
  {
   "cell_type": "code",
   "execution_count": 1,
   "metadata": {},
   "outputs": [],
   "source": [
    "import numpy as np"
   ]
  },
  {
   "cell_type": "code",
   "execution_count": 2,
   "metadata": {},
   "outputs": [],
   "source": [
    "arr = np.array([[b'r', b'n', b'b', b'q', b'k', b'b', b'n', b'r'],\n",
    "           [b'p', b'p', b'p', b'p', b'p', b'p', b'p', b'p'],\n",
    "           [b'_', b'_', b'_', b'_', b'_', b'_', b'_', b'_'],\n",
    "           [b'_', b'_', b'_', b'_', b'_', b'_', b'_', b'_'],\n",
    "           [b'_', b'_', b'_', b'_', b'_', b'_', b'_', b'_'],\n",
    "           [b'_', b'_', b'_', b'_', b'_', b'_', b'_', b'_'],\n",
    "           [b'P', b'P', b'P', b'P', b'P', b'P', b'P', b'P'],\n",
    "           [b'R', b'N', b'B', b'Q', b'K', b'B', b'N', b'R']], dtype = np.object_)"
   ]
  },
  {
   "cell_type": "code",
   "execution_count": 3,
   "metadata": {},
   "outputs": [
    {
     "data": {
      "text/plain": [
       "array([[b'r', b'n', b'b', b'q', b'k', b'b', b'n', b'r'],\n",
       "       [b'p', b'p', b'p', b'p', b'p', b'p', b'p', b'p'],\n",
       "       [b'_', b'_', b'_', b'_', b'_', b'_', b'_', b'_'],\n",
       "       [b'_', b'_', b'_', b'_', b'_', b'_', b'_', b'_'],\n",
       "       [b'_', b'_', b'_', b'_', b'_', b'_', b'_', b'_'],\n",
       "       [b'_', b'_', b'_', b'_', b'_', b'_', b'_', b'_'],\n",
       "       [b'P', b'P', b'P', b'P', b'P', b'P', b'P', b'P'],\n",
       "       [b'R', b'N', b'B', b'Q', b'K', b'B', b'N', b'R']], dtype=object)"
      ]
     },
     "execution_count": 3,
     "metadata": {},
     "output_type": "execute_result"
    }
   ],
   "source": [
    "arr"
   ]
  },
  {
   "cell_type": "code",
   "execution_count": 4,
   "metadata": {},
   "outputs": [],
   "source": [
    "final = np.random.permutation(arr.ravel()).reshape(8, 8)"
   ]
  },
  {
   "cell_type": "code",
   "execution_count": 5,
   "metadata": {},
   "outputs": [
    {
     "data": {
      "text/plain": [
       "array([[b'b', b'_', b'B', b'N', b'_', b'_', b'p', b'_'],\n",
       "       [b'_', b'K', b'Q', b'B', b'p', b'_', b'_', b'_'],\n",
       "       [b'P', b'_', b'p', b'P', b'_', b'_', b'P', b'p'],\n",
       "       [b'_', b'_', b'p', b'p', b'_', b'_', b'q', b'k'],\n",
       "       [b'_', b'p', b'_', b'_', b'_', b'_', b'P', b'P'],\n",
       "       [b'N', b'p', b'P', b'n', b'_', b'_', b'_', b'_'],\n",
       "       [b'r', b'_', b'_', b'_', b'_', b'_', b'P', b'n'],\n",
       "       [b'b', b'_', b'R', b'_', b'R', b'r', b'_', b'P']], dtype=object)"
      ]
     },
     "execution_count": 5,
     "metadata": {},
     "output_type": "execute_result"
    }
   ],
   "source": [
    "final"
   ]
  },
  {
   "cell_type": "code",
   "execution_count": 6,
   "metadata": {},
   "outputs": [],
   "source": [
    "dc = {}"
   ]
  },
  {
   "cell_type": "code",
   "execution_count": 7,
   "metadata": {},
   "outputs": [],
   "source": [
    "dc[\"P0\"] = np.argwhere(final == b\"P\")[0]\n",
    "dc[\"P1\"] = np.argwhere(final == b\"P\")[1]\n",
    "dc[\"P2\"] = np.argwhere(final == b\"P\")[2]"
   ]
  },
  {
   "cell_type": "code",
   "execution_count": 8,
   "metadata": {},
   "outputs": [
    {
     "data": {
      "text/plain": [
       "(array([b'B', b'K', b'N', b'P', b'Q', b'R', b'_', b'b', b'k', b'n', b'p',\n",
       "        b'q', b'r'], dtype=object),\n",
       " array([ 2,  1,  2,  8,  1,  2, 32,  2,  1,  2,  8,  1,  2]))"
      ]
     },
     "execution_count": 8,
     "metadata": {},
     "output_type": "execute_result"
    }
   ],
   "source": [
    "np.unique(final, return_counts = True)"
   ]
  },
  {
   "cell_type": "code",
   "execution_count": 9,
   "metadata": {},
   "outputs": [
    {
     "data": {
      "text/plain": [
       "'b'"
      ]
     },
     "execution_count": 9,
     "metadata": {},
     "output_type": "execute_result"
    }
   ],
   "source": [
    "b\"b\".decode(\"utf-8\")"
   ]
  },
  {
   "cell_type": "code",
   "execution_count": 10,
   "metadata": {},
   "outputs": [],
   "source": [
    "for peca, counts in zip(*np.unique(final, return_counts = True)):\n",
    "    for i in range(counts):\n",
    "        dc[peca.decode(\"utf-8\") + f\"{i}\"] = np.argwhere(final == peca)[i]"
   ]
  },
  {
   "cell_type": "code",
   "execution_count": 11,
   "metadata": {},
   "outputs": [
    {
     "data": {
      "text/plain": [
       "{'P0': array([2, 0]),\n",
       " 'P1': array([2, 3]),\n",
       " 'P2': array([2, 6]),\n",
       " 'B0': array([0, 2]),\n",
       " 'B1': array([1, 3]),\n",
       " 'K0': array([1, 1]),\n",
       " 'N0': array([0, 3]),\n",
       " 'N1': array([5, 0]),\n",
       " 'P3': array([4, 6]),\n",
       " 'P4': array([4, 7]),\n",
       " 'P5': array([5, 2]),\n",
       " 'P6': array([6, 6]),\n",
       " 'P7': array([7, 7]),\n",
       " 'Q0': array([1, 2]),\n",
       " 'R0': array([7, 2]),\n",
       " 'R1': array([7, 4]),\n",
       " '_0': array([0, 1]),\n",
       " '_1': array([0, 4]),\n",
       " '_2': array([0, 5]),\n",
       " '_3': array([0, 7]),\n",
       " '_4': array([1, 0]),\n",
       " '_5': array([1, 5]),\n",
       " '_6': array([1, 6]),\n",
       " '_7': array([1, 7]),\n",
       " '_8': array([2, 1]),\n",
       " '_9': array([2, 4]),\n",
       " '_10': array([2, 5]),\n",
       " '_11': array([3, 0]),\n",
       " '_12': array([3, 1]),\n",
       " '_13': array([3, 4]),\n",
       " '_14': array([3, 5]),\n",
       " '_15': array([4, 0]),\n",
       " '_16': array([4, 2]),\n",
       " '_17': array([4, 3]),\n",
       " '_18': array([4, 4]),\n",
       " '_19': array([4, 5]),\n",
       " '_20': array([5, 4]),\n",
       " '_21': array([5, 5]),\n",
       " '_22': array([5, 6]),\n",
       " '_23': array([5, 7]),\n",
       " '_24': array([6, 1]),\n",
       " '_25': array([6, 2]),\n",
       " '_26': array([6, 3]),\n",
       " '_27': array([6, 4]),\n",
       " '_28': array([6, 5]),\n",
       " '_29': array([7, 1]),\n",
       " '_30': array([7, 3]),\n",
       " '_31': array([7, 6]),\n",
       " 'b0': array([0, 0]),\n",
       " 'b1': array([7, 0]),\n",
       " 'k0': array([3, 7]),\n",
       " 'n0': array([5, 3]),\n",
       " 'n1': array([6, 7]),\n",
       " 'p0': array([0, 6]),\n",
       " 'p1': array([1, 4]),\n",
       " 'p2': array([2, 2]),\n",
       " 'p3': array([2, 7]),\n",
       " 'p4': array([3, 2]),\n",
       " 'p5': array([3, 3]),\n",
       " 'p6': array([4, 1]),\n",
       " 'p7': array([5, 1]),\n",
       " 'q0': array([3, 6]),\n",
       " 'r0': array([6, 0]),\n",
       " 'r1': array([7, 5])}"
      ]
     },
     "execution_count": 11,
     "metadata": {},
     "output_type": "execute_result"
    }
   ],
   "source": [
    "dc"
   ]
  },
  {
   "cell_type": "code",
   "execution_count": 12,
   "metadata": {},
   "outputs": [
    {
     "name": "stdout",
     "output_type": "stream",
     "text": [
      "P0 [2 0]\n",
      "P1 [2 3]\n",
      "P2 [2 6]\n",
      "B0 [0 2]\n",
      "B1 [1 3]\n",
      "K0 [1 1]\n",
      "N0 [0 3]\n",
      "N1 [5 0]\n",
      "P3 [4 6]\n",
      "P4 [4 7]\n",
      "P5 [5 2]\n",
      "P6 [6 6]\n",
      "P7 [7 7]\n",
      "Q0 [1 2]\n",
      "R0 [7 2]\n",
      "R1 [7 4]\n",
      "b0 [0 0]\n",
      "b1 [7 0]\n",
      "k0 [3 7]\n",
      "n0 [5 3]\n",
      "n1 [6 7]\n",
      "p0 [0 6]\n",
      "p1 [1 4]\n",
      "p2 [2 2]\n",
      "p3 [2 7]\n",
      "p4 [3 2]\n",
      "p5 [3 3]\n",
      "p6 [4 1]\n",
      "p7 [5 1]\n",
      "q0 [3 6]\n",
      "r0 [6 0]\n",
      "r1 [7 5]\n"
     ]
    }
   ],
   "source": [
    "for peca, pos in dc.items():\n",
    "    if peca[0]!= \"_\":\n",
    "        print(peca, pos)"
   ]
  },
  {
   "cell_type": "code",
   "execution_count": 45,
   "metadata": {},
   "outputs": [],
   "source": [
    "poss = []"
   ]
  },
  {
   "cell_type": "code",
   "execution_count": 53,
   "metadata": {},
   "outputs": [
    {
     "name": "stdout",
     "output_type": "stream",
     "text": [
      "b0 [0 0]\n",
      "b1 [7 0]\n",
      "k0 [3 7]\n",
      "n0 [5 3]\n",
      "n1 [6 7]\n",
      "p0 [0 6]\n",
      "p1 [1 4]\n",
      "p2 [2 2]\n",
      "p3 [2 7]\n",
      "p4 [3 2]\n",
      "p5 [3 3]\n",
      "p6 [4 1]\n",
      "p7 [5 1]\n",
      "q0 [3 6]\n",
      "r0 [6 0]\n",
      "r1 [7 5]\n"
     ]
    }
   ],
   "source": [
    "for peca, pos in dc.items():\n",
    "    if peca[0]!= \"_\" and peca[0].islower():\n",
    "        print(peca, pos)\n",
    "        poss.append(pos)\n",
    "        #cube = bpy.data.objects[peca]\n",
    "        #cube.location = mathutils.Vector((21.0 - pos[0] * 6.0 , 21.0 - pos[1] * 6.0 , 0.0))"
   ]
  },
  {
   "cell_type": "code",
   "execution_count": 51,
   "metadata": {},
   "outputs": [
    {
     "data": {
      "text/plain": [
       "True"
      ]
     },
     "execution_count": 51,
     "metadata": {},
     "output_type": "execute_result"
    }
   ],
   "source": [
    "len(np.unique(np.array(poss), axis = 1)) == len(np.array(poss))"
   ]
  },
  {
   "cell_type": "code",
   "execution_count": null,
   "metadata": {},
   "outputs": [],
   "source": []
  },
  {
   "cell_type": "code",
   "execution_count": 61,
   "metadata": {},
   "outputs": [
    {
     "data": {
      "text/plain": [
       "-0.21637440496198188"
      ]
     },
     "execution_count": 61,
     "metadata": {},
     "output_type": "execute_result"
    }
   ],
   "source": [
    "np.random.normal(0, 1)"
   ]
  },
  {
   "cell_type": "code",
   "execution_count": 73,
   "metadata": {},
   "outputs": [
    {
     "data": {
      "text/plain": [
       "4.315237276273242"
      ]
     },
     "execution_count": 73,
     "metadata": {},
     "output_type": "execute_result"
    }
   ],
   "source": [
    "2 * np.pi * np.random.random()"
   ]
  },
  {
   "cell_type": "code",
   "execution_count": null,
   "metadata": {},
   "outputs": [],
   "source": []
  },
  {
   "cell_type": "code",
   "execution_count": null,
   "metadata": {},
   "outputs": [],
   "source": []
  }
 ],
 "metadata": {
  "kernelspec": {
   "display_name": "Python 3",
   "language": "python",
   "name": "python3"
  },
  "language_info": {
   "codemirror_mode": {
    "name": "ipython",
    "version": 3
   },
   "file_extension": ".py",
   "mimetype": "text/x-python",
   "name": "python",
   "nbconvert_exporter": "python",
   "pygments_lexer": "ipython3",
   "version": "3.6.7"
  }
 },
 "nbformat": 4,
 "nbformat_minor": 2
}
