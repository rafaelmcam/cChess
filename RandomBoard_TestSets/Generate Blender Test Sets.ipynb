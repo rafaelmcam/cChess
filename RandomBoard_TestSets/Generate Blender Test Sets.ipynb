{
 "cells": [
  {
   "cell_type": "code",
   "execution_count": 1,
   "metadata": {},
   "outputs": [],
   "source": [
    "%matplotlib inline\n",
    "import matplotlib.pyplot as plt\n",
    "import cv2\n",
    "import numpy as np\n",
    "import pickle"
   ]
  },
  {
   "cell_type": "code",
   "execution_count": 2,
   "metadata": {},
   "outputs": [
    {
     "ename": "NameError",
     "evalue": "name 'img' is not defined",
     "output_type": "error",
     "traceback": [
      "\u001b[0;31m---------------------------------------------------------------------------\u001b[0m",
      "\u001b[0;31mNameError\u001b[0m                                 Traceback (most recent call last)",
      "\u001b[0;32m<ipython-input-2-fbcd32f0718e>\u001b[0m in \u001b[0;36m<module>\u001b[0;34m()\u001b[0m\n\u001b[1;32m      1\u001b[0m \u001b[0maux\u001b[0m \u001b[0;34m=\u001b[0m \u001b[0mnp\u001b[0m\u001b[0;34m.\u001b[0m\u001b[0mzeros\u001b[0m\u001b[0;34m(\u001b[0m\u001b[0;34m(\u001b[0m\u001b[0;36m400\u001b[0m\u001b[0;34m,\u001b[0m \u001b[0;36m400\u001b[0m\u001b[0;34m)\u001b[0m\u001b[0;34m,\u001b[0m \u001b[0mdtype\u001b[0m \u001b[0;34m=\u001b[0m \u001b[0mnp\u001b[0m\u001b[0;34m.\u001b[0m\u001b[0mfloat32\u001b[0m\u001b[0;34m)\u001b[0m\u001b[0;34m\u001b[0m\u001b[0;34m\u001b[0m\u001b[0m\n\u001b[1;32m      2\u001b[0m \u001b[0mpts_aux\u001b[0m \u001b[0;34m=\u001b[0m \u001b[0mnp\u001b[0m\u001b[0;34m.\u001b[0m\u001b[0mfloat32\u001b[0m\u001b[0;34m(\u001b[0m\u001b[0;34m[\u001b[0m\u001b[0;34m[\u001b[0m\u001b[0;36m0\u001b[0m\u001b[0;34m,\u001b[0m\u001b[0;36m0\u001b[0m\u001b[0;34m]\u001b[0m\u001b[0;34m,\u001b[0m\u001b[0;34m[\u001b[0m\u001b[0maux\u001b[0m\u001b[0;34m.\u001b[0m\u001b[0mshape\u001b[0m\u001b[0;34m[\u001b[0m\u001b[0;36m1\u001b[0m\u001b[0;34m]\u001b[0m\u001b[0;34m,\u001b[0m \u001b[0;36m0\u001b[0m\u001b[0;34m]\u001b[0m\u001b[0;34m,\u001b[0m\u001b[0;34m[\u001b[0m\u001b[0maux\u001b[0m\u001b[0;34m.\u001b[0m\u001b[0mshape\u001b[0m\u001b[0;34m[\u001b[0m\u001b[0;36m1\u001b[0m\u001b[0;34m]\u001b[0m\u001b[0;34m,\u001b[0m\u001b[0maux\u001b[0m\u001b[0;34m.\u001b[0m\u001b[0mshape\u001b[0m\u001b[0;34m[\u001b[0m\u001b[0;36m0\u001b[0m\u001b[0;34m]\u001b[0m\u001b[0;34m]\u001b[0m\u001b[0;34m,\u001b[0m\u001b[0;34m[\u001b[0m\u001b[0;36m0\u001b[0m\u001b[0;34m,\u001b[0m\u001b[0maux\u001b[0m\u001b[0;34m.\u001b[0m\u001b[0mshape\u001b[0m\u001b[0;34m[\u001b[0m\u001b[0;36m0\u001b[0m\u001b[0;34m]\u001b[0m\u001b[0;34m]\u001b[0m\u001b[0;34m]\u001b[0m\u001b[0;34m)\u001b[0m\u001b[0;34m\u001b[0m\u001b[0;34m\u001b[0m\u001b[0m\n\u001b[0;32m----> 3\u001b[0;31m \u001b[0mimg_r\u001b[0m \u001b[0;34m=\u001b[0m \u001b[0mcv2\u001b[0m\u001b[0;34m.\u001b[0m\u001b[0mresize\u001b[0m\u001b[0;34m(\u001b[0m\u001b[0mimg\u001b[0m\u001b[0;34m,\u001b[0m \u001b[0;34m(\u001b[0m\u001b[0mint\u001b[0m\u001b[0;34m(\u001b[0m\u001b[0mimg\u001b[0m\u001b[0;34m.\u001b[0m\u001b[0mshape\u001b[0m\u001b[0;34m[\u001b[0m\u001b[0;36m1\u001b[0m\u001b[0;34m]\u001b[0m\u001b[0;34m/\u001b[0m\u001b[0;36m2\u001b[0m\u001b[0;34m)\u001b[0m\u001b[0;34m,\u001b[0m \u001b[0mint\u001b[0m\u001b[0;34m(\u001b[0m\u001b[0mimg\u001b[0m\u001b[0;34m.\u001b[0m\u001b[0mshape\u001b[0m\u001b[0;34m[\u001b[0m\u001b[0;36m0\u001b[0m\u001b[0;34m]\u001b[0m\u001b[0;34m/\u001b[0m\u001b[0;36m2\u001b[0m\u001b[0;34m)\u001b[0m\u001b[0;34m)\u001b[0m\u001b[0;34m)\u001b[0m\u001b[0;34m\u001b[0m\u001b[0;34m\u001b[0m\u001b[0m\n\u001b[0m",
      "\u001b[0;31mNameError\u001b[0m: name 'img' is not defined"
     ]
    }
   ],
   "source": [
    "aux = np.zeros((400, 400), dtype = np.float32)\n",
    "pts_aux = np.float32([[0,0],[aux.shape[1], 0],[aux.shape[1],aux.shape[0]],[0,aux.shape[0]]])\n",
    "img_r = cv2.resize(img, (int(img.shape[1]/2), int(img.shape[0]/2)))"
   ]
  },
  {
   "cell_type": "code",
   "execution_count": 3,
   "metadata": {},
   "outputs": [],
   "source": [
    "# points = []\n",
    "# ix,iy = -1,-1\n",
    "\n",
    "# def get_points(event,x,y,flags,param):\n",
    "#     global ix,iy,drawing,mode, points\n",
    "\n",
    "#     if event == cv2.EVENT_LBUTTONDOWN:\n",
    "#         ix,iy = x,y\n",
    "#         #print(x, y)\n",
    "#         points.append([x, y])\n",
    "\n",
    "# img_r = cv2.resize(img, (int(img.shape[1]/2), int(img.shape[0]/2)))\n",
    "\n",
    "# #descomentar abaixo para clicar na tela\n",
    "\n",
    "# cv2.imshow(\"click\", img_r)\n",
    "# cv2.setMouseCallback('click', get_points)\n",
    "\n",
    "# while (1):\n",
    "#     k = cv2.waitKey(1) & 0xFF\n",
    "#     if k == ord('q') or k == 27:\n",
    "#         break\n",
    "        \n",
    "# cv2.destroyAllWindows()\n",
    "\n",
    "\n",
    "# pts1 = np.float32(points[:4])"
   ]
  },
  {
   "cell_type": "code",
   "execution_count": 4,
   "metadata": {},
   "outputs": [],
   "source": [
    "a, b = 29, 481\n",
    "pts1 = np.array([[a, a], [b, a], [b, b], [a, b]], dtype = np.float32)"
   ]
  },
  {
   "cell_type": "code",
   "execution_count": 5,
   "metadata": {},
   "outputs": [],
   "source": [
    "def center_image(img, p = 0.35, boolean = True):\n",
    "    if boolean == False:\n",
    "        return img\n",
    "    w, h = img.shape\n",
    "    cw, ch = w//2, h//2\n",
    "    #p = 0.4 #max 0.5\n",
    "    return img[int(cw - w*p): int(cw + w*p), int(ch - h*p) : int(ch + h*p)]\n",
    "\n",
    "\n",
    "def show_full_board(array_geral, center = False, p = 0.35):\n",
    "    fig, axs = plt.subplots(8, 8, figsize = (10, 10))\n",
    "    [axi.set_axis_off() for axi in axs.ravel()]\n",
    "    for i in range(8):\n",
    "        for j in range(8):\n",
    "            axs[i, j].imshow(center_image(array_geral[i, j], boolean = center, p = p))\n",
    "    return"
   ]
  },
  {
   "cell_type": "code",
   "execution_count": 7,
   "metadata": {},
   "outputs": [],
   "source": [
    "for i in range(0, 1):\n",
    "    \n",
    "    jogo_n = str(i)\n",
    "    \n",
    "    with open(f\"Blender Test Sets/Dcs/{jogo_n}.pkl\", \"rb\")as f:\n",
    "        dc = pickle.load(f)\n",
    "    img = cv2.imread(f\"Blender Test Sets/Boards/{jogo_n}.png\", 0)\n",
    "    #img = cv2.cvtColor(img, cv2.COLOR_BGR2RGB)\n",
    "    #plt.imshow(img)\n",
    "    #plt.show()\n",
    "    \n",
    "    aux = np.zeros((400, 400), dtype = np.float32)\n",
    "    pts_aux = np.float32([[0,0],[aux.shape[1], 0],[aux.shape[1],aux.shape[0]],[0,aux.shape[0]]])\n",
    "    img_r = cv2.resize(img, (int(img.shape[1]/2), int(img.shape[0]/2)))\n",
    "    \n",
    "    a, b = 29, 481\n",
    "    pts1 = np.array([[a, a], [b, a], [b, b], [a, b]], dtype = np.float32)\n",
    "    \n",
    "    M = cv2.getPerspectiveTransform(pts1, pts_aux)\n",
    "    perspectiva = cv2.warpPerspective(img_r, M,(aux.shape[1], aux.shape[0]), aux, borderMode = cv2.BORDER_TRANSPARENT)\n",
    "    \n",
    "    #plt.imshow(perspectiva, cmap = \"gray\")\n",
    "    #plt.show()\n",
    "    \n",
    "    \n",
    "    lst = []\n",
    "    for i in range(8):\n",
    "        for j in range(8):\n",
    "            lst.append(perspectiva[perspectiva.shape[1]*i//8:perspectiva.shape[1]*(i+1)//8, perspectiva.shape[0]*j//8:perspectiva.shape[0]*(j+1)//8])\n",
    "\n",
    "    array = np.array(lst).reshape(8, 8, 50,  -1)\n",
    "    \n",
    "    for peca, pos in dc.items():\n",
    "        if peca[0] != \"_\":\n",
    "            #print(peca)\n",
    "            img = array[pos[0], pos[1]]\n",
    "            #plt.imshow(img)\n",
    "            #plt.show()\n",
    "            cv2.imwrite(f\"Blender Test Sets/Test Labels/{peca[0]}/{jogo_n}_{peca}.png\", img)"
   ]
  },
  {
   "cell_type": "code",
   "execution_count": null,
   "metadata": {},
   "outputs": [],
   "source": []
  }
 ],
 "metadata": {
  "kernelspec": {
   "display_name": "Python 3",
   "language": "python",
   "name": "python3"
  },
  "language_info": {
   "codemirror_mode": {
    "name": "ipython",
    "version": 3
   },
   "file_extension": ".py",
   "mimetype": "text/x-python",
   "name": "python",
   "nbconvert_exporter": "python",
   "pygments_lexer": "ipython3",
   "version": "3.6.7"
  }
 },
 "nbformat": 4,
 "nbformat_minor": 2
}
