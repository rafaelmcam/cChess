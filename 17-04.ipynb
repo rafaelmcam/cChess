{
 "cells": [
  {
   "cell_type": "code",
   "execution_count": 1,
   "metadata": {},
   "outputs": [],
   "source": [
    "%matplotlib inline\n",
    "import matplotlib.pyplot as plt\n",
    "import numpy as np\n",
    "import cv2\n",
    "import chess\n",
    "import chess.svg"
   ]
  },
  {
   "cell_type": "markdown",
   "metadata": {},
   "source": [
    "### <center> Usar combinação do std/kmeans para gerar lista de jogadas abaixo"
   ]
  },
  {
   "cell_type": "code",
   "execution_count": 2,
   "metadata": {},
   "outputs": [
    {
     "data": {
      "text/plain": [
       "((6, 8, 8, 50, 50), (5, 2))"
      ]
     },
     "execution_count": 2,
     "metadata": {},
     "output_type": "execute_result"
    }
   ],
   "source": [
    "array_jogadas_0 = np.load(\"Jogos/0/array_jogadas_0.npy\")\n",
    "array_geral_0 = np.load(\"Jogos/0/array_geral_0.npy\")\n",
    "\n",
    "array_geral_0.shape, array_jogadas_0.shape"
   ]
  },
  {
   "cell_type": "code",
   "execution_count": 3,
   "metadata": {},
   "outputs": [],
   "source": [
    "def push_board(board, move):\n",
    "    try:\n",
    "        board.push_uci(move[0])\n",
    "        return\n",
    "    except:\n",
    "        try:\n",
    "            board.push_uci(move[1])\n",
    "            return \n",
    "        except:\n",
    "            print(\"Erro!\")\n",
    "            return -1"
   ]
  },
  {
   "cell_type": "code",
   "execution_count": 4,
   "metadata": {},
   "outputs": [],
   "source": [
    "def jogo_ate_i(array_de_jogadas, i = 9999):\n",
    "    board = chess.Board()\n",
    "    for jogada in array_de_jogadas[:i]:\n",
    "        push_board(board, jogada)\n",
    "    return board"
   ]
  },
  {
   "cell_type": "code",
   "execution_count": 5,
   "metadata": {},
   "outputs": [],
   "source": [
    "def converte_notacao_xadrez_afonso(square_number):\n",
    "    return (63 - square_number)//8, 7 - (63 - square_number)%8"
   ]
  },
  {
   "cell_type": "code",
   "execution_count": 6,
   "metadata": {},
   "outputs": [],
   "source": [
    "def generate_matrix_board(array_jogadas, i):\n",
    "    board = jogo_ate_i(array_jogadas, i)\n",
    "    tabuleiro = np.array([(converte_notacao_xadrez_afonso(i), x.symbol()) for i, x in board.piece_map().items()])\n",
    "    matrix = np.chararray((8, 8))\n",
    "    matrix[:] = \"_\"\n",
    "\n",
    "    for i, x in tabuleiro:\n",
    "        matrix[i[0], i[1]] = x\n",
    "    return matrix"
   ]
  },
  {
   "cell_type": "code",
   "execution_count": 7,
   "metadata": {},
   "outputs": [
    {
     "data": {
      "text/plain": [
       "chararray([[b'r', b'n', b'b', b'q', b'k', b'b', b'n', b'r'],\n",
       "           [b'p', b'p', b'p', b'p', b'p', b'_', b'p', b'p'],\n",
       "           [b'_', b'_', b'_', b'_', b'_', b'_', b'_', b'_'],\n",
       "           [b'_', b'_', b'_', b'_', b'_', b'p', b'_', b'_'],\n",
       "           [b'_', b'_', b'P', b'P', b'_', b'_', b'_', b'_'],\n",
       "           [b'_', b'_', b'_', b'_', b'_', b'_', b'_', b'_'],\n",
       "           [b'P', b'P', b'_', b'_', b'P', b'P', b'P', b'P'],\n",
       "           [b'R', b'N', b'B', b'Q', b'K', b'B', b'N', b'R']], dtype='|S1')"
      ]
     },
     "execution_count": 7,
     "metadata": {},
     "output_type": "execute_result"
    }
   ],
   "source": [
    "generate_matrix_board(array_jogadas_0, i = 3)"
   ]
  },
  {
   "cell_type": "code",
   "execution_count": 8,
   "metadata": {},
   "outputs": [],
   "source": [
    "def save_labels(n_jogo, n_jogada, matrix, array_geral):\n",
    "    for i in range(8):\n",
    "        for j in range(8):\n",
    "            peca = matrix[i, j].decode(\"utf-8\")\n",
    "            cv2.imwrite(\"Labels/{}/{}_{}_{}{}.png\".format(peca, n_jogo, n_jogada, i, j), array_geral[n_jogada][i][j])\n",
    "    return"
   ]
  },
  {
   "cell_type": "code",
   "execution_count": 9,
   "metadata": {},
   "outputs": [],
   "source": [
    "def save_all_labels_in_game(n_jogo):\n",
    "    array_jogadas = np.load(\"Jogos/{}/array_jogadas_{}.npy\".format(n_jogo, n_jogo))\n",
    "    array_geral = np.load(\"Jogos/{}/array_geral_{}.npy\".format(n_jogo, n_jogo))\n",
    "    for i in range(len(array_jogadas)):\n",
    "        n_jogada = i\n",
    "        matrix = generate_matrix_board(array_jogadas, i = n_jogada)\n",
    "        save_labels(0, n_jogada, matrix, array_geral)"
   ]
  },
  {
   "cell_type": "code",
   "execution_count": 10,
   "metadata": {},
   "outputs": [],
   "source": [
    "save_all_labels_in_game(0)"
   ]
  },
  {
   "cell_type": "code",
   "execution_count": null,
   "metadata": {},
   "outputs": [],
   "source": []
  }
 ],
 "metadata": {
  "kernelspec": {
   "display_name": "Python 3",
   "language": "python",
   "name": "python3"
  },
  "language_info": {
   "codemirror_mode": {
    "name": "ipython",
    "version": 3
   },
   "file_extension": ".py",
   "mimetype": "text/x-python",
   "name": "python",
   "nbconvert_exporter": "python",
   "pygments_lexer": "ipython3",
   "version": "3.6.7"
  }
 },
 "nbformat": 4,
 "nbformat_minor": 2
}
